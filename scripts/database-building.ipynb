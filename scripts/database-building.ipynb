{
 "cells": [
  {
   "metadata": {
    "ExecuteTime": {
     "end_time": "2025-06-20T16:05:09.825845Z",
     "start_time": "2025-06-20T16:05:09.823459Z"
    }
   },
   "cell_type": "code",
   "source": [
    "import pandas as pd\n",
    "import duckdb\n",
    "import os\n",
    "import os, json\n",
    "from uuid import uuid4\n",
    "import pandas as pd\n",
    "import numpy as np"
   ],
   "id": "21e92328110bce5b",
   "outputs": [],
   "execution_count": 17
  },
  {
   "metadata": {
    "ExecuteTime": {
     "end_time": "2025-06-20T14:23:36.345570Z",
     "start_time": "2025-06-20T14:23:36.314757Z"
    }
   },
   "cell_type": "code",
   "source": "works_df = pd.read_parquet(\"../data/grela_works_metadata.parquet\")",
   "id": "bb7810d6b21b0d9a",
   "outputs": [],
   "execution_count": 3
  },
  {
   "metadata": {
    "ExecuteTime": {
     "end_time": "2025-06-20T15:51:14.489361Z",
     "start_time": "2025-06-20T15:51:14.386872Z"
    }
   },
   "cell_type": "code",
   "source": [
    "conn = duckdb.connect(\"/srv/data/greek/grela.duckdb\")\n",
    "conn.execute(\"CREATE TABLE works AS SELECT * FROM works_df\")"
   ],
   "id": "f67cea06009db4bc",
   "outputs": [
    {
     "data": {
      "text/plain": [
       "<duckdb.duckdb.DuckDBPyConnection at 0x72e3cd945ff0>"
      ]
     },
     "execution_count": 15,
     "metadata": {},
     "output_type": "execute_result"
    }
   ],
   "execution_count": 15
  },
  {
   "metadata": {
    "ExecuteTime": {
     "end_time": "2025-06-20T15:43:21.823929Z",
     "start_time": "2025-06-20T15:43:21.820175Z"
    }
   },
   "cell_type": "code",
   "source": [
    "def process_sentences_from_dir(dir_path, grela_prefix):\n",
    "    sentences = []\n",
    "    tokens = []\n",
    "\n",
    "    for fn in os.listdir(dir_path):\n",
    "        grela_id = grela_prefix + \"_\" + fn.replace(\".json\", \"\")\n",
    "        sents_data = json.load(open(os.path.join(dir_path, fn), \"rb\"))\n",
    "\n",
    "        for sent in sents_data:\n",
    "            work_id, pos, text, token_data = sent\n",
    "            sentence_id = grela_id + \"_\" + str(pos) # str(uuid4())  # or use work_id + pos\n",
    "            sentences.append([sentence_id, grela_id, pos, text])\n",
    "\n",
    "            for token in token_data:\n",
    "                tok_text, lemma, pos_tag, char_span, *extra = token\n",
    "                page_idx, textblock_idx = (extra + [None, None])[:2]\n",
    "                tokens.append([sentence_id, grela_id, tok_text, lemma, pos_tag, char_span[0], char_span[1], page_idx, textblock_idx])\n",
    "\n",
    "    return pd.DataFrame(sentences, columns=[\"sentence_id\", \"grela_id\", \"position\", \"text\"]), \\\n",
    "           pd.DataFrame(tokens, columns=[\"sentence_id\", \"grela_id\", \"token_text\", \"lemma\", \"pos\", \"char_start\", \"char_end\", \"page_idx\", \"textblock_idx\"])"
   ],
   "id": "50a8fc2e08c75a82",
   "outputs": [],
   "execution_count": 9
  },
  {
   "metadata": {
    "ExecuteTime": {
     "end_time": "2025-06-20T15:51:48.426135Z",
     "start_time": "2025-06-20T15:51:48.422403Z"
    }
   },
   "cell_type": "code",
   "outputs": [],
   "execution_count": 16,
   "source": [
    "lagt_sents_data_dir = \"/home/jupyter-vojta/notebooks/LAGT/data/large_files/sents_data_jsons\"\n",
    "emlap_sents_data_dir = \"/srv/data/tome/tome-corpus/sents_data_id_jsons_v3-0/\"\n",
    "noscemus_sents_data_dir = \"/srv/data/tome/noscemus/sents_data_jsons/\"\n",
    "cc_sents_data_dir = \"/srv/data/corpus-corporum/cc_sents_jsons/\""
   ],
   "id": "b7bf84b9fe09e407"
  },
  {
   "metadata": {
    "ExecuteTime": {
     "end_time": "2025-06-20T15:44:00.617905Z",
     "start_time": "2025-06-20T15:43:33.149155Z"
    }
   },
   "cell_type": "code",
   "outputs": [],
   "execution_count": 12,
   "source": "sents_emlap, tokens_emlap = process_sentences_from_dir(emlap_sents_data_dir, \"emlap\")",
   "id": "565172d9d9646f8e"
  },
  {
   "metadata": {
    "ExecuteTime": {
     "end_time": "2025-06-20T15:44:31.099553Z",
     "start_time": "2025-06-20T15:44:31.028676Z"
    }
   },
   "cell_type": "code",
   "source": [
    "# look at emlap data for testing\n",
    "tokens_emlap.sample(10)"
   ],
   "id": "1d18d32eab59d3cc",
   "outputs": [
    {
     "data": {
      "text/plain": [
       "                sentence_id      grela_id token_text     lemma    pos  \\\n",
       "19099     emlap_100044_2257  emlap_100044      fimus       fio   VERB   \n",
       "1304734    emlap_100059_112  emlap_100059     quidem    quidem   PART   \n",
       "316431    emlap_100012_1274  emlap_100012     genere     genus   NOUN   \n",
       "681111    emlap_100070_1997  emlap_100070          .         .  PUNCT   \n",
       "910438    emlap_100038_3334  emlap_100038   affinius  affinius    ADJ   \n",
       "2764682    emlap_100030_385  emlap_100030      Solis      Soli   NOUN   \n",
       "511034    emlap_100013_1838  emlap_100013  simplicem   simplex    ADJ   \n",
       "817257   emlap_100070_12032  emlap_100070          ,         ,  PUNCT   \n",
       "1213528   emlap_100071_1163  emlap_100071        per       per    ADP   \n",
       "2435019  emlap_100067_11810  emlap_100067        sit       sum    AUX   \n",
       "\n",
       "         char_start  char_end page_idx textblock_idx  \n",
       "19099            25        30     [92]          [12]  \n",
       "1304734           4        10     [18]           [9]  \n",
       "316431           61        67    [138]          [12]  \n",
       "681111           33        34     [86]          [11]  \n",
       "910438           10        18    [262]          [12]  \n",
       "2764682          55        60     [53]           [8]  \n",
       "511034           58        67     [81]        [5, 6]  \n",
       "817257          192       193    [392]          [39]  \n",
       "1213528          51        54    [207]           [4]  \n",
       "2435019          95        98    [683]          [22]  "
      ],
      "text/html": [
       "<div>\n",
       "<style scoped>\n",
       "    .dataframe tbody tr th:only-of-type {\n",
       "        vertical-align: middle;\n",
       "    }\n",
       "\n",
       "    .dataframe tbody tr th {\n",
       "        vertical-align: top;\n",
       "    }\n",
       "\n",
       "    .dataframe thead th {\n",
       "        text-align: right;\n",
       "    }\n",
       "</style>\n",
       "<table border=\"1\" class=\"dataframe\">\n",
       "  <thead>\n",
       "    <tr style=\"text-align: right;\">\n",
       "      <th></th>\n",
       "      <th>sentence_id</th>\n",
       "      <th>grela_id</th>\n",
       "      <th>token_text</th>\n",
       "      <th>lemma</th>\n",
       "      <th>pos</th>\n",
       "      <th>char_start</th>\n",
       "      <th>char_end</th>\n",
       "      <th>page_idx</th>\n",
       "      <th>textblock_idx</th>\n",
       "    </tr>\n",
       "  </thead>\n",
       "  <tbody>\n",
       "    <tr>\n",
       "      <th>19099</th>\n",
       "      <td>emlap_100044_2257</td>\n",
       "      <td>emlap_100044</td>\n",
       "      <td>fimus</td>\n",
       "      <td>fio</td>\n",
       "      <td>VERB</td>\n",
       "      <td>25</td>\n",
       "      <td>30</td>\n",
       "      <td>[92]</td>\n",
       "      <td>[12]</td>\n",
       "    </tr>\n",
       "    <tr>\n",
       "      <th>1304734</th>\n",
       "      <td>emlap_100059_112</td>\n",
       "      <td>emlap_100059</td>\n",
       "      <td>quidem</td>\n",
       "      <td>quidem</td>\n",
       "      <td>PART</td>\n",
       "      <td>4</td>\n",
       "      <td>10</td>\n",
       "      <td>[18]</td>\n",
       "      <td>[9]</td>\n",
       "    </tr>\n",
       "    <tr>\n",
       "      <th>316431</th>\n",
       "      <td>emlap_100012_1274</td>\n",
       "      <td>emlap_100012</td>\n",
       "      <td>genere</td>\n",
       "      <td>genus</td>\n",
       "      <td>NOUN</td>\n",
       "      <td>61</td>\n",
       "      <td>67</td>\n",
       "      <td>[138]</td>\n",
       "      <td>[12]</td>\n",
       "    </tr>\n",
       "    <tr>\n",
       "      <th>681111</th>\n",
       "      <td>emlap_100070_1997</td>\n",
       "      <td>emlap_100070</td>\n",
       "      <td>.</td>\n",
       "      <td>.</td>\n",
       "      <td>PUNCT</td>\n",
       "      <td>33</td>\n",
       "      <td>34</td>\n",
       "      <td>[86]</td>\n",
       "      <td>[11]</td>\n",
       "    </tr>\n",
       "    <tr>\n",
       "      <th>910438</th>\n",
       "      <td>emlap_100038_3334</td>\n",
       "      <td>emlap_100038</td>\n",
       "      <td>affinius</td>\n",
       "      <td>affinius</td>\n",
       "      <td>ADJ</td>\n",
       "      <td>10</td>\n",
       "      <td>18</td>\n",
       "      <td>[262]</td>\n",
       "      <td>[12]</td>\n",
       "    </tr>\n",
       "    <tr>\n",
       "      <th>2764682</th>\n",
       "      <td>emlap_100030_385</td>\n",
       "      <td>emlap_100030</td>\n",
       "      <td>Solis</td>\n",
       "      <td>Soli</td>\n",
       "      <td>NOUN</td>\n",
       "      <td>55</td>\n",
       "      <td>60</td>\n",
       "      <td>[53]</td>\n",
       "      <td>[8]</td>\n",
       "    </tr>\n",
       "    <tr>\n",
       "      <th>511034</th>\n",
       "      <td>emlap_100013_1838</td>\n",
       "      <td>emlap_100013</td>\n",
       "      <td>simplicem</td>\n",
       "      <td>simplex</td>\n",
       "      <td>ADJ</td>\n",
       "      <td>58</td>\n",
       "      <td>67</td>\n",
       "      <td>[81]</td>\n",
       "      <td>[5, 6]</td>\n",
       "    </tr>\n",
       "    <tr>\n",
       "      <th>817257</th>\n",
       "      <td>emlap_100070_12032</td>\n",
       "      <td>emlap_100070</td>\n",
       "      <td>,</td>\n",
       "      <td>,</td>\n",
       "      <td>PUNCT</td>\n",
       "      <td>192</td>\n",
       "      <td>193</td>\n",
       "      <td>[392]</td>\n",
       "      <td>[39]</td>\n",
       "    </tr>\n",
       "    <tr>\n",
       "      <th>1213528</th>\n",
       "      <td>emlap_100071_1163</td>\n",
       "      <td>emlap_100071</td>\n",
       "      <td>per</td>\n",
       "      <td>per</td>\n",
       "      <td>ADP</td>\n",
       "      <td>51</td>\n",
       "      <td>54</td>\n",
       "      <td>[207]</td>\n",
       "      <td>[4]</td>\n",
       "    </tr>\n",
       "    <tr>\n",
       "      <th>2435019</th>\n",
       "      <td>emlap_100067_11810</td>\n",
       "      <td>emlap_100067</td>\n",
       "      <td>sit</td>\n",
       "      <td>sum</td>\n",
       "      <td>AUX</td>\n",
       "      <td>95</td>\n",
       "      <td>98</td>\n",
       "      <td>[683]</td>\n",
       "      <td>[22]</td>\n",
       "    </tr>\n",
       "  </tbody>\n",
       "</table>\n",
       "</div>"
      ]
     },
     "execution_count": 13,
     "metadata": {},
     "output_type": "execute_result"
    }
   ],
   "execution_count": 13
  },
  {
   "metadata": {
    "ExecuteTime": {
     "end_time": "2025-06-20T15:45:41.666558Z",
     "start_time": "2025-06-20T15:45:41.657771Z"
    }
   },
   "cell_type": "code",
   "source": [
    "# look\n",
    "sents_emlap.sample(10)"
   ],
   "id": "b94bc3cc163ba7cd",
   "outputs": [
    {
     "data": {
      "text/plain": [
       "              sentence_id      grela_id  position  \\\n",
       "40777   emlap_100028_6443  emlap_100028      6443   \n",
       "8228     emlap_100034_179  emlap_100034       179   \n",
       "88763    emlap_100002_235  emlap_100002       235   \n",
       "47413   emlap_100070_4001  emlap_100070      4001   \n",
       "25215   emlap_100012_4684  emlap_100012      4684   \n",
       "129662   emlap_100006_524  emlap_100006       524   \n",
       "98884   emlap_100032_4987  emlap_100032      4987   \n",
       "104665  emlap_100045_2401  emlap_100045      2401   \n",
       "92731   emlap_100049_3137  emlap_100049      3137   \n",
       "216710   emlap_100011_894  emlap_100011       894   \n",
       "\n",
       "                                                     text  \n",
       "40777   Quo facto, siccentur ad solem, deinde uirga al...  \n",
       "8228    Sapientiam nempe longe a nobis peccatum fecit,...  \n",
       "88763   P Facta per multos dies in uase circulatione i...  \n",
       "47413                  Ita metalla in se transeunt mutuo.  \n",
       "25215   Argentum (uiuum) praecipitatum sic fit, ut scr...  \n",
       "129662  Sique eorum sententia, qui omnes in hanc conue...  \n",
       "98884   cumque caetera in metallis reperta igni perfic...  \n",
       "104665  has illarum abiectarum iam loco si substitueri...  \n",
       "92731                                    Ambrae drach. 2.  \n",
       "216710  Concedimus eis utique, sed non propter hoc nos...  "
      ],
      "text/html": [
       "<div>\n",
       "<style scoped>\n",
       "    .dataframe tbody tr th:only-of-type {\n",
       "        vertical-align: middle;\n",
       "    }\n",
       "\n",
       "    .dataframe tbody tr th {\n",
       "        vertical-align: top;\n",
       "    }\n",
       "\n",
       "    .dataframe thead th {\n",
       "        text-align: right;\n",
       "    }\n",
       "</style>\n",
       "<table border=\"1\" class=\"dataframe\">\n",
       "  <thead>\n",
       "    <tr style=\"text-align: right;\">\n",
       "      <th></th>\n",
       "      <th>sentence_id</th>\n",
       "      <th>grela_id</th>\n",
       "      <th>position</th>\n",
       "      <th>text</th>\n",
       "    </tr>\n",
       "  </thead>\n",
       "  <tbody>\n",
       "    <tr>\n",
       "      <th>40777</th>\n",
       "      <td>emlap_100028_6443</td>\n",
       "      <td>emlap_100028</td>\n",
       "      <td>6443</td>\n",
       "      <td>Quo facto, siccentur ad solem, deinde uirga al...</td>\n",
       "    </tr>\n",
       "    <tr>\n",
       "      <th>8228</th>\n",
       "      <td>emlap_100034_179</td>\n",
       "      <td>emlap_100034</td>\n",
       "      <td>179</td>\n",
       "      <td>Sapientiam nempe longe a nobis peccatum fecit,...</td>\n",
       "    </tr>\n",
       "    <tr>\n",
       "      <th>88763</th>\n",
       "      <td>emlap_100002_235</td>\n",
       "      <td>emlap_100002</td>\n",
       "      <td>235</td>\n",
       "      <td>P Facta per multos dies in uase circulatione i...</td>\n",
       "    </tr>\n",
       "    <tr>\n",
       "      <th>47413</th>\n",
       "      <td>emlap_100070_4001</td>\n",
       "      <td>emlap_100070</td>\n",
       "      <td>4001</td>\n",
       "      <td>Ita metalla in se transeunt mutuo.</td>\n",
       "    </tr>\n",
       "    <tr>\n",
       "      <th>25215</th>\n",
       "      <td>emlap_100012_4684</td>\n",
       "      <td>emlap_100012</td>\n",
       "      <td>4684</td>\n",
       "      <td>Argentum (uiuum) praecipitatum sic fit, ut scr...</td>\n",
       "    </tr>\n",
       "    <tr>\n",
       "      <th>129662</th>\n",
       "      <td>emlap_100006_524</td>\n",
       "      <td>emlap_100006</td>\n",
       "      <td>524</td>\n",
       "      <td>Sique eorum sententia, qui omnes in hanc conue...</td>\n",
       "    </tr>\n",
       "    <tr>\n",
       "      <th>98884</th>\n",
       "      <td>emlap_100032_4987</td>\n",
       "      <td>emlap_100032</td>\n",
       "      <td>4987</td>\n",
       "      <td>cumque caetera in metallis reperta igni perfic...</td>\n",
       "    </tr>\n",
       "    <tr>\n",
       "      <th>104665</th>\n",
       "      <td>emlap_100045_2401</td>\n",
       "      <td>emlap_100045</td>\n",
       "      <td>2401</td>\n",
       "      <td>has illarum abiectarum iam loco si substitueri...</td>\n",
       "    </tr>\n",
       "    <tr>\n",
       "      <th>92731</th>\n",
       "      <td>emlap_100049_3137</td>\n",
       "      <td>emlap_100049</td>\n",
       "      <td>3137</td>\n",
       "      <td>Ambrae drach. 2.</td>\n",
       "    </tr>\n",
       "    <tr>\n",
       "      <th>216710</th>\n",
       "      <td>emlap_100011_894</td>\n",
       "      <td>emlap_100011</td>\n",
       "      <td>894</td>\n",
       "      <td>Concedimus eis utique, sed non propter hoc nos...</td>\n",
       "    </tr>\n",
       "  </tbody>\n",
       "</table>\n",
       "</div>"
      ]
     },
     "execution_count": 14,
     "metadata": {},
     "output_type": "execute_result"
    }
   ],
   "execution_count": 14
  },
  {
   "metadata": {},
   "cell_type": "code",
   "outputs": [],
   "execution_count": null,
   "source": [
    "sents_nos, tokens_nos = process_sentences_from_dir(noscemus_sents_data_dir, \"noscemus\")\n",
    "sents_lagt, tokens_lagt = process_sentences_from_dir(lagt_sents_data_dir, \"lagt\")\n",
    "sents_cc, tokens_cc = process_sentences_from_dir(cc_sents_data_dir, \"cc\")"
   ],
   "id": "57328f073ff3db69"
  },
  {
   "metadata": {},
   "cell_type": "code",
   "outputs": [],
   "execution_count": null,
   "source": [
    "# Merge\n",
    "all_sents = pd.concat([sents_cc, sents_nos, sents_emlap, sents_lagt])\n",
    "all_tokens = pd.concat([tokens_cc, tokens_nos, tokens_emlap, tokens_lagt])"
   ],
   "id": "19f8a971bf29c799"
  },
  {
   "metadata": {},
   "cell_type": "markdown",
   "source": "## Add tokens and sentences into the database",
   "id": "81cb1d7abf7bb367"
  },
  {
   "metadata": {},
   "cell_type": "code",
   "execution_count": null,
   "source": [
    "# add table with sentence data\n",
    "conn.execute(\"CREATE TABLE IF NOT EXISTS sentences AS SELECT * FROM all_sents\")"
   ],
   "id": "9b98dc529ed50cd8",
   "outputs": []
  },
  {
   "metadata": {},
   "cell_type": "code",
   "outputs": [],
   "execution_count": null,
   "source": [
    "# Store in batches if necessary:\n",
    "for i, chunk in enumerate(np.array_split(all_tokens, 100)):\n",
    "    conn.register(\"chunk\", chunk)\n",
    "    conn.execute(\"INSERT INTO tokens SELECT * FROM chunk\")"
   ],
   "id": "e02ebca8be76b9b5"
  },
  {
   "metadata": {},
   "cell_type": "code",
   "outputs": [],
   "execution_count": null,
   "source": [
    "lemmata_df = all_tokens.groupby([\"lemma\", \"pos\"]).size().reset_index(name=\"count\")\n",
    "conn.execute(\"CREATE TABLE lemmata AS SELECT * FROM lemmata_df\")"
   ],
   "id": "3cccde531374125e"
  }
 ],
 "metadata": {
  "kernelspec": {
   "display_name": "Python 3",
   "language": "python",
   "name": "python3"
  },
  "language_info": {
   "codemirror_mode": {
    "name": "ipython",
    "version": 2
   },
   "file_extension": ".py",
   "mimetype": "text/x-python",
   "name": "python",
   "nbconvert_exporter": "python",
   "pygments_lexer": "ipython2",
   "version": "2.7.6"
  }
 },
 "nbformat": 4,
 "nbformat_minor": 5
}
