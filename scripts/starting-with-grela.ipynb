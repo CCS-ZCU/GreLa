{
 "cells": [
  {
   "metadata": {
    "ExecuteTime": {
     "end_time": "2025-06-22T00:21:09.816007Z",
     "start_time": "2025-06-22T00:21:09.520937Z"
    }
   },
   "cell_type": "code",
   "source": [
    "import pandas as pd\n",
    "import duckdb\n",
    "import os\n",
    "import os, json\n",
    "from uuid import uuid4\n",
    "import pandas as pd\n",
    "import numpy as np"
   ],
   "id": "10a1a40addaefa80",
   "outputs": [],
   "execution_count": 1
  },
  {
   "cell_type": "code",
   "id": "initial_id",
   "metadata": {
    "collapsed": true,
    "ExecuteTime": {
     "end_time": "2025-06-22T00:22:55.682458Z",
     "start_time": "2025-06-22T00:22:55.668583Z"
    }
   },
   "source": "conn_read = duckdb.connect('/srv/data/greek/grela.duckdb', read_only=True)",
   "outputs": [
    {
     "ename": "IOException",
     "evalue": "IO Error: Could not set lock on file \"/srv/data/greek/grela.duckdb\": Conflicting lock is held in /usr/bin/python3.12 (PID 2362303). See also https://duckdb.org/docs/stable/connect/concurrency",
     "output_type": "error",
     "traceback": [
      "\u001B[0;31m---------------------------------------------------------------------------\u001B[0m",
      "\u001B[0;31mIOException\u001B[0m                               Traceback (most recent call last)",
      "Cell \u001B[0;32mIn[3], line 1\u001B[0m\n\u001B[0;32m----> 1\u001B[0m conn_read \u001B[38;5;241m=\u001B[39m \u001B[43mduckdb\u001B[49m\u001B[38;5;241;43m.\u001B[39;49m\u001B[43mconnect\u001B[49m\u001B[43m(\u001B[49m\u001B[38;5;124;43m'\u001B[39;49m\u001B[38;5;124;43m/srv/data/greek/grela.duckdb\u001B[39;49m\u001B[38;5;124;43m'\u001B[39;49m\u001B[43m,\u001B[49m\u001B[43m \u001B[49m\u001B[43mread_only\u001B[49m\u001B[38;5;241;43m=\u001B[39;49m\u001B[38;5;28;43;01mTrue\u001B[39;49;00m\u001B[43m)\u001B[49m\n",
      "\u001B[0;31mIOException\u001B[0m: IO Error: Could not set lock on file \"/srv/data/greek/grela.duckdb\": Conflicting lock is held in /usr/bin/python3.12 (PID 2362303). See also https://duckdb.org/docs/stable/connect/concurrency"
     ]
    }
   ],
   "execution_count": 3
  },
  {
   "metadata": {},
   "cell_type": "code",
   "outputs": [],
   "execution_count": null,
   "source": "",
   "id": "d45afe121c99db26"
  }
 ],
 "metadata": {
  "kernelspec": {
   "display_name": "Python 3",
   "language": "python",
   "name": "python3"
  },
  "language_info": {
   "codemirror_mode": {
    "name": "ipython",
    "version": 2
   },
   "file_extension": ".py",
   "mimetype": "text/x-python",
   "name": "python",
   "nbconvert_exporter": "python",
   "pygments_lexer": "ipython2",
   "version": "2.7.6"
  }
 },
 "nbformat": 4,
 "nbformat_minor": 5
}
